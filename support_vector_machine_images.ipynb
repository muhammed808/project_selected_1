{
 "cells": [
  {
   "cell_type": "code",
   "execution_count": 16,
   "id": "6668b552",
   "metadata": {},
   "outputs": [],
   "source": [
    "import numpy as np\n",
    "import matplotlib.pyplot as plt\n",
    "%matplotlib inline\n",
    "import os\n",
    "import cv2\n",
    "import tensorflow as tf\n",
    "from tensorflow import keras"
   ]
  },
  {
   "cell_type": "code",
   "execution_count": 17,
   "id": "ca7ce1ca",
   "metadata": {},
   "outputs": [],
   "source": [
    "IMG_SIZE=50\n",
    "dataset=r'C:\\\\Users\\\\DELL\\\\images_datasetANN\\\\train'\n",
    "categories=['GuideSign','M1','M4','M5','M6','M7',\"P1\",'P10_50',\"P12\",'W1']"
   ]
  },
  {
   "cell_type": "code",
   "execution_count": 18,
   "id": "b7049097",
   "metadata": {},
   "outputs": [],
   "source": [
    "training_data=[]\n",
    "\n",
    "for c in categories:\n",
    "    path=os.path.join(dataset,c)\n",
    "    class_num=categories.index(c)\n",
    "    for img in os.listdir(path):\n",
    "        try:\n",
    "            img_arrary=cv2.imread(os.path.join(path,img),cv2.IMREAD_GRAYSCALE)\n",
    "            new_array=cv2.resize(img_arrary,(IMG_SIZE,IMG_SIZE))\n",
    "            training_data.append([new_array,class_num])\n",
    "        except Exception as e:\n",
    "            pass"
   ]
  },
  {
   "cell_type": "code",
   "execution_count": 19,
   "id": "2cd033f1",
   "metadata": {},
   "outputs": [],
   "source": [
    "import random\n",
    "random.shuffle(training_data)"
   ]
  },
  {
   "cell_type": "code",
   "execution_count": 20,
   "id": "c8f6beb0",
   "metadata": {},
   "outputs": [],
   "source": [
    "X=[]\n",
    "y=[]\n",
    "from sklearn.model_selection import train_test_split"
   ]
  },
  {
   "cell_type": "code",
   "execution_count": 21,
   "id": "418e2851",
   "metadata": {},
   "outputs": [
    {
     "name": "stdout",
     "output_type": "stream",
     "text": [
      "6024\n",
      "6024\n"
     ]
    }
   ],
   "source": [
    "for feature ,label in training_data: \n",
    "    X.append(feature)\n",
    "    y.append(label)\n",
    "print(len(y))\n",
    "print(len(X))"
   ]
  },
  {
   "cell_type": "code",
   "execution_count": 22,
   "id": "04812b14",
   "metadata": {},
   "outputs": [],
   "source": [
    "X=np.array(X)\n",
    "y=np.array(y)"
   ]
  },
  {
   "cell_type": "code",
   "execution_count": 23,
   "id": "523c83d2",
   "metadata": {},
   "outputs": [],
   "source": [
    "X_train,X_test,y_train,y_test=train_test_split(X,y,test_size=0.2)\n"
   ]
  },
  {
   "cell_type": "code",
   "execution_count": 24,
   "id": "6309fdf8",
   "metadata": {},
   "outputs": [],
   "source": [
    "X_train_flatten=X_train.reshape(len(X_train),50*50)\n",
    "X_test_flatten=X_test.reshape(len(X_test),50*50)"
   ]
  },
  {
   "cell_type": "code",
   "execution_count": 25,
   "id": "1a778f24",
   "metadata": {},
   "outputs": [],
   "source": [
    "from sklearn.svm import SVC\n",
    "model=SVC(C=1,kernel='poly',gamma='auto')"
   ]
  },
  {
   "cell_type": "code",
   "execution_count": 26,
   "id": "800bd788",
   "metadata": {},
   "outputs": [
    {
     "data": {
      "text/plain": [
       "SVC(C=1, gamma='auto', kernel='poly')"
      ]
     },
     "execution_count": 26,
     "metadata": {},
     "output_type": "execute_result"
    }
   ],
   "source": [
    "model.fit(X_train_flatten,y_train)"
   ]
  },
  {
   "cell_type": "code",
   "execution_count": 27,
   "id": "9d6b8a02",
   "metadata": {},
   "outputs": [
    {
     "data": {
      "text/plain": [
       "0.8946058091286307"
      ]
     },
     "execution_count": 27,
     "metadata": {},
     "output_type": "execute_result"
    }
   ],
   "source": [
    "model.score(X_test_flatten,y_test)"
   ]
  },
  {
   "cell_type": "code",
   "execution_count": 28,
   "id": "27fa9887",
   "metadata": {},
   "outputs": [],
   "source": [
    "y_pred=model.predict(X_test_flatten)"
   ]
  },
  {
   "cell_type": "code",
   "execution_count": 29,
   "id": "a93ced8a",
   "metadata": {},
   "outputs": [
    {
     "name": "stdout",
     "output_type": "stream",
     "text": [
      "[[194   3  17   2   1   2   6   0   0   1]\n",
      " [  2  54   5   0   0   0   0   1   0   1]\n",
      " [ 20  15 600   9   0   2   3   0   0   3]\n",
      " [  0   0   9  32   1   0   1   0   0   0]\n",
      " [  1   0   1   1  18   0   0   0   0   0]\n",
      " [  2   0   1   0   0  88   0   0   0   4]\n",
      " [  3   0   0   0   0   0  40   0   1   0]\n",
      " [  0   0   1   0   0   0   1  16   0   0]\n",
      " [  0   1   0   1   0   0   0   1  11   0]\n",
      " [  3   0   0   0   0   1   0   0   0  25]]\n"
     ]
    },
    {
     "data": {
      "text/plain": [
       "0.8946058091286307"
      ]
     },
     "execution_count": 29,
     "metadata": {},
     "output_type": "execute_result"
    }
   ],
   "source": [
    "from sklearn.metrics import confusion_matrix, accuracy_score\n",
    "cm = confusion_matrix(y_test, y_pred)\n",
    "print(cm)\n",
    "accuracy_score(y_test, y_pred)"
   ]
  },
  {
   "cell_type": "code",
   "execution_count": 30,
   "id": "d4eff729",
   "metadata": {},
   "outputs": [
    {
     "name": "stdout",
     "output_type": "stream",
     "text": [
      "[3 2 0 ... 2 2 2]\n"
     ]
    },
    {
     "data": {
      "text/plain": [
       "<matplotlib.legend.Legend at 0x2a9e45f81f0>"
      ]
     },
     "execution_count": 30,
     "metadata": {},
     "output_type": "execute_result"
    },
    {
     "data": {
      "image/png": "[encoded data removed]",
      "text/plain": [
       "<Figure size 432x288 with 1 Axes>"
      ]
     },
     "metadata": {
      "needs_background": "light"
     },
     "output_type": "display_data"
    }
   ],
   "source": [
    "from sklearn.metrics import roc_curve, auc\n",
    "import matplotlib.pyplot as plt\n",
    "from collections import Counter\n",
    "\n",
    "y_pred1 = model.predict(X_test_flatten)\n",
    "\n",
    "print(y_pred1)\n",
    "for i in range(10):\n",
    "    nn_fpr_keras, nn_tpr_keras, nn_thresholds_keras = roc_curve(y_test  , y_pred1, pos_label=i)\n",
    "    auc_keras = auc(nn_fpr_keras, nn_tpr_keras)\n",
    "    plt.plot(nn_fpr_keras, nn_tpr_keras,marker='.'.format(), label='class # %0.f' % i)\n",
    "    \n",
    "plt.legend(loc=\"lower right\")"
   ]
  },
  {
   "cell_type": "markdown",
   "id": "333af81e",
   "metadata": {},
   "source": [
    "# learning curve"
   ]
  },
  {
   "cell_type": "code",
   "execution_count": 31,
   "id": "bdc32cfa",
   "metadata": {},
   "outputs": [],
   "source": [
    "from sklearn.model_selection import learning_curve"
   ]
  },
  {
   "cell_type": "code",
   "execution_count": 32,
   "id": "01187c82",
   "metadata": {},
   "outputs": [
    {
     "data": {
      "image/png": "[encoded data removed]",
      "text/plain": [
       "<Figure size 432x432 with 1 Axes>"
      ]
     },
     "metadata": {
      "needs_background": "light"
     },
     "output_type": "display_data"
    }
   ],
   "source": [
    "train_sizes, train_scores, test_scores = learning_curve(model,\n",
    "                                                        X_test_flatten, y_test, cv=10, scoring='accuracy',\n",
    "                                                        train_sizes=np.linspace(0.01, 1.0, 50))\n",
    "train_mean = np.mean(train_scores, axis=1)\n",
    "train_std = np.std(train_scores, axis=1)\n",
    "\n",
    "test_mean = np.mean(test_scores, axis=1)\n",
    "test_std = np.std(test_scores, axis=1)\n",
    "\n",
    "plt.subplots(1, figsize=(6,6))\n",
    "plt.plot(train_sizes, train_mean, '--', color='blue',  label=\"Training score\")\n",
    "plt.plot(train_sizes, test_mean, color='blue', label=\"Cross-validation score\")\n",
    "\n",
    "plt.title(\"Learning Curve\")\n",
    "plt.xlabel(\"Training Set Size\"), plt.ylabel(\"Accuracy Score\"), plt.legend(loc=\"best\")\n",
    "plt.tight_layout()\n",
    "plt.show()"
   ]
  },
  {
   "cell_type": "code",
   "execution_count": null,
   "id": "81e705ee",
   "metadata": {},
   "outputs": [],
   "source": []
  }
 ],
 "metadata": {
  "kernelspec": {
   "display_name": "Python 3 (ipykernel)",
   "language": "python",
   "name": "python3"
  },
  "language_info": {
   "codemirror_mode": {
    "name": "ipython",
    "version": 3
   },
   "file_extension": ".py",
   "mimetype": "text/x-python",
   "name": "python",
   "nbconvert_exporter": "python",
   "pygments_lexer": "ipython3",
   "version": "3.9.7"
  }
 },
 "nbformat": 4,
 "nbformat_minor": 5
}
