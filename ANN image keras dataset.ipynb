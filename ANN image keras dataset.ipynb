{
 "cells": [
  {
   "cell_type": "code",
   "execution_count": 31,
   "id": "51d935d8",
   "metadata": {},
   "outputs": [],
   "source": [
    "import keras\n",
    "import tensorflow as tf\n",
    "from tensorflow import keras\n",
    "import numpy as np\n",
    "# from tensorflow.keras.optimizers import RMSprop"
   ]
  },
  {
   "cell_type": "code",
   "execution_count": 32,
   "id": "e0ccf99f",
   "metadata": {},
   "outputs": [],
   "source": [
    "f = keras.datasets.fashion_mnist\n",
    "(x_train, y_train), (x_test, y_test) = f.load_data()"
   ]
  },
  {
   "cell_type": "code",
   "execution_count": 33,
   "id": "b58501df",
   "metadata": {},
   "outputs": [
    {
     "data": {
      "text/plain": [
       "<matplotlib.image.AxesImage at 0x15b22f0baf0>"
      ]
     },
     "execution_count": 33,
     "metadata": {},
     "output_type": "execute_result"
    },
    {
     "data": {
      "image/png": "[encoded data removed]",
      "text/plain": [
       "<Figure size 432x288 with 1 Axes>"
      ]
     },
     "metadata": {
      "needs_background": "light"
     },
     "output_type": "display_data"
    }
   ],
   "source": [
    "import matplotlib.pyplot as plt\n",
    "plt.imshow(x_train[11])"
   ]
  },
  {
   "cell_type": "code",
   "execution_count": 34,
   "id": "abc06d98",
   "metadata": {},
   "outputs": [
    {
     "name": "stdout",
     "output_type": "stream",
     "text": [
      "[[  0   0   0   0   0   0   0   0   0   0   0   0   0   0  39 111  93  85\n",
      "   27   0   0   0   0   0   1   0   0   0]\n",
      " [  0   0   0   0   0   0   0   0   0   0   0   1   0   0 190 244 248 255\n",
      "  255 155 202 212 150   9   0   3   0   0]\n",
      " [  0   0   0   0   0   0   0   0   0   0   0   2   0   0 213 227 233 227\n",
      "  243 246 255 250 255 146   0   9   0   0]\n",
      " [  0   0   0   0   0   0   0   0   0   0   0   4   0   6 244 233 236 244\n",
      "  232 214 248 242 251  33   0   7   0   0]\n",
      " [  0   0   0   0   0   0   0   0   0   0   1   6   0  72 255 231 239 244\n",
      "  237 226 255 252 207  44  24   0   2   0]\n",
      " [  0   0   0   0   0   0   0   0   0   0   0   0   0 125 231 215 253 252\n",
      "  234 246 254 239 128 114  63   0   3   0]\n",
      " [  0   0   0   0   0   0   0   0   0   0   1   0   0 189 230 198 185 219\n",
      "  218 255 206 255 133  31   0   0   0   0]\n",
      " [  0   0   0   0   0   0   0   0   0   0   4   0   0 224 241 255 236 237\n",
      "  223 191 219 166   0   0   1   0   0   0]\n",
      " [  0   0   0   0   0   0   0   0   0   0   1   0  61 245 202 220 237 220\n",
      "  242 199 255 178   0   0   1   0   0   0]\n",
      " [  0   0   0   0   0   0   0   0   0   0   0   0 153 247 205 202 212 207\n",
      "  225 190 255  93 141   0   0   1   0   0]\n",
      " [  0   0   0   0   0   0   0   0   0   3   0   0 222 228 233 243 248 242\n",
      "  242 209 255   0  90 177   0   0   0   0]\n",
      " [  0   0   0   0   0   0   0   0   0   2   0  46 255 221 235 235 213 248\n",
      "  220 206 255 225  28 255   0   0   0   0]\n",
      " [  0   0   0   0   0   0   0   0   0   0   0 116 250 215 227 231 226 255\n",
      "  195 216 250 255 159 255 160   0   0   0]\n",
      " [  0   0   0   0   0   0   0   0   3   0   7 226 202 241 247 241 228 255\n",
      "  175 229 252 241 255 224 224  76   0   0]\n",
      " [  0   0   0   0   0   0   0   0   0   0 131 255 210 212 251 252 229 255\n",
      "  175 227 254 239 245 230 223 149  90   0]\n",
      " [  0   0   0   0   0   0   0   2   0   0 227 238 238 225 205 242 246 223\n",
      "  187 221 254 238 255 233 156   0   0   0]\n",
      " [  0   0   0   0   0   1   0   0   0  77 255 239 248 252 237 195 201 232\n",
      "  190 205 252 235 255 199   0   0   0   0]\n",
      " [  0   0   0   0   0   0   0   0   0 207 223 186 215 223 255 255 217 229\n",
      "  254 251 244 240 255 207   0   0   1   0]\n",
      " [  0   0   0   0   0   0   2   0  53 254 234 239 222 190 187 200 250 237\n",
      "  195 251 250 237 253 192   0   0   0   0]\n",
      " [  0   0   0   2   4   2   0   0 190 247 233 231 250 254 247 208 208 231\n",
      "  226 207 246 235 248 175   0   0   0   0]\n",
      " [  0   1   6   0   0   0   0 117 245 184 242 238 235 238 244 233 255 255\n",
      "   99 155 255 233 252 154   0   0   0   0]\n",
      " [  0   0   0   0   3  33 141 255 197 208 184 234 246 240 243 231 255  77\n",
      "    0 172 255 231 253 139   0   1   0   0]\n",
      " [  0   0  84 243 246 255 254 240 241 190 229 198 243 244 238 255  80   0\n",
      "    0 176 255 231 252 113   0   3   0   0]\n",
      " [  0  25 223 239 230 231 231 234 241 247 191 225 230 252 255 173   0   0\n",
      "    0 170 255 228 251  97   0   4   0   0]\n",
      " [  0 103 241 217 228 230 238 241 238 248 244 216 172 223 255   0   0   7\n",
      "    0 159 255 234 251  74   0   4   0   0]\n",
      " [  0   9 188 229 242 241 243 240 236 238 241 251 237 253  64   0   0   3\n",
      "    0 154 255 229 255  62   0   7   0   0]\n",
      " [  0   0   0  28 123 199 249 255 255 255 255 255 245  72   0   0   0   3\n",
      "    0 117 255 245 220  19   0   4   0   0]\n",
      " [  0   0   0   0   0   0   0  38  72  89  71  37   0   0   0   0   0   3\n",
      "    0   0  64  42  24   0   0   0   0   0]]\n"
     ]
    }
   ],
   "source": [
    "print(x_train[11])"
   ]
  },
  {
   "cell_type": "code",
   "execution_count": 35,
   "id": "7c554935",
   "metadata": {},
   "outputs": [
    {
     "name": "stdout",
     "output_type": "stream",
     "text": [
      "9\n"
     ]
    }
   ],
   "source": [
    "print(y_train[11])"
   ]
  },
  {
   "cell_type": "code",
   "execution_count": 36,
   "id": "e020a99b",
   "metadata": {},
   "outputs": [
    {
     "name": "stdout",
     "output_type": "stream",
     "text": [
      "before 9\n",
      "after [0. 0. 0. 0. 0. 0. 0. 0. 0. 1.]\n"
     ]
    }
   ],
   "source": [
    "num_classes = 10 #define the number of classes possible.\n",
    "\n",
    "print('before',y_test[0])\n",
    "\n",
    "# Convert class vectors to binary class matrices.\n",
    "y_train = keras.utils.to_categorical(y_train, num_classes)\n",
    "y_test = keras.utils.to_categorical(y_test, num_classes)\n",
    "\n",
    "\n",
    "print('after',y_test[0])\n",
    "\n",
    "#Normalize\n",
    "x_train  = x_train / 255.0\n",
    "x_test = x_test / 255.0"
   ]
  },
  {
   "cell_type": "code",
   "execution_count": 37,
   "id": "e9b45c97",
   "metadata": {},
   "outputs": [
    {
     "name": "stdout",
     "output_type": "stream",
     "text": [
      "[0. 0. 0. 0. 0. 0. 0. 0. 0. 1.]\n"
     ]
    }
   ],
   "source": [
    "print(y_train[11])"
   ]
  },
  {
   "cell_type": "code",
   "execution_count": 38,
   "id": "f4c3d80f",
   "metadata": {},
   "outputs": [],
   "source": [
    "# class myCallback(tf.keras.callbacks.Callback):\n",
    "#   def on_epoch_end(self, epoch, logs={}):\n",
    "#     if(logs.get('acc')>0.9152):\n",
    "#       print(\"\\nReached 91.0% accuracy cancel any further epochs!\")\n",
    "#       print(logs)\n",
    "#       self.model.stop_training = True\n",
    "\n",
    "# callbacks = myCallback()"
   ]
  },
  {
   "cell_type": "code",
   "execution_count": 39,
   "id": "1839bd2e",
   "metadata": {},
   "outputs": [],
   "source": [
    "model = tf.keras.models.Sequential([tf.keras.layers.Flatten(), \n",
    "                                   tf.keras.layers.Dense(1024, activation=tf.nn.relu),\n",
    "                                  tf.keras.layers.Dense(128, activation=tf.nn.relu),\n",
    "                                  tf.keras.layers.Dense(10, activation=tf.nn.softmax)])\n",
    "\n"
   ]
  },
  {
   "cell_type": "code",
   "execution_count": 41,
   "id": "20372232",
   "metadata": {},
   "outputs": [
    {
     "name": "stdout",
     "output_type": "stream",
     "text": [
      "Epoch 1/20\n",
      "1875/1875 [==============================] - 13s 7ms/step - loss: 0.0302 - accuracy: 0.9390\n",
      "Epoch 2/20\n",
      "1875/1875 [==============================] - 12s 6ms/step - loss: 0.0284 - accuracy: 0.9425\n",
      "Epoch 3/20\n",
      "1875/1875 [==============================] - 12s 7ms/step - loss: 0.0279 - accuracy: 0.9439\n",
      "Epoch 4/20\n",
      "1875/1875 [==============================] - 13s 7ms/step - loss: 0.0271 - accuracy: 0.9457\n",
      "Epoch 5/20\n",
      "1875/1875 [==============================] - 13s 7ms/step - loss: 0.0265 - accuracy: 0.9459\n",
      "Epoch 6/20\n",
      "1875/1875 [==============================] - 14s 7ms/step - loss: 0.0261 - accuracy: 0.9464\n",
      "Epoch 7/20\n",
      "1875/1875 [==============================] - 13s 7ms/step - loss: 0.0256 - accuracy: 0.9474\n",
      "Epoch 8/20\n",
      "1875/1875 [==============================] - 12s 7ms/step - loss: 0.0249 - accuracy: 0.9493\n",
      "Epoch 9/20\n",
      "1875/1875 [==============================] - 13s 7ms/step - loss: 0.0236 - accuracy: 0.9532\n",
      "Epoch 10/20\n",
      "1875/1875 [==============================] - 13s 7ms/step - loss: 0.0241 - accuracy: 0.9519\n",
      "Epoch 11/20\n",
      "1875/1875 [==============================] - 13s 7ms/step - loss: 0.0234 - accuracy: 0.9530\n",
      "Epoch 12/20\n",
      "1875/1875 [==============================] - 13s 7ms/step - loss: 0.0231 - accuracy: 0.9544\n",
      "Epoch 13/20\n",
      "1875/1875 [==============================] - 12s 6ms/step - loss: 0.0223 - accuracy: 0.9552\n",
      "Epoch 14/20\n",
      "1875/1875 [==============================] - 12s 6ms/step - loss: 0.0220 - accuracy: 0.9567\n",
      "Epoch 15/20\n",
      "1875/1875 [==============================] - 12s 7ms/step - loss: 0.0212 - accuracy: 0.9572\n",
      "Epoch 16/20\n",
      "1875/1875 [==============================] - 12s 7ms/step - loss: 0.0210 - accuracy: 0.9575\n",
      "Epoch 17/20\n",
      "1875/1875 [==============================] - 12s 6ms/step - loss: 0.0201 - accuracy: 0.9593\n",
      "Epoch 18/20\n",
      "1875/1875 [==============================] - 12s 6ms/step - loss: 0.0199 - accuracy: 0.9603\n",
      "Epoch 19/20\n",
      "1875/1875 [==============================] - 12s 7ms/step - loss: 0.0197 - accuracy: 0.9602\n",
      "Epoch 20/20\n",
      "1875/1875 [==============================] - 12s 7ms/step - loss: 0.0192 - accuracy: 0.9611\n"
     ]
    }
   ],
   "source": [
    "\n",
    "# model.compile(loss='binary_crossentropy',\n",
    "#               optimizer=RMSprop(lr=0.001),\n",
    "#               metrics=['acc'])\n",
    "model.compile(loss='binary_crossentropy', optimizer='adam',metrics=['accuracy'])\n",
    "#model.fit(x_train, y_train, epochs=20, callbacks=[callbacks])\n",
    "history = model.fit(x_train, y_train, epochs=20)"
   ]
  },
  {
   "cell_type": "code",
   "execution_count": 44,
   "id": "1bcd3570",
   "metadata": {},
   "outputs": [
    {
     "data": {
      "image/png": "[encoded data removed]",
      "text/plain": [
       "<Figure size 432x288 with 1 Axes>"
      ]
     },
     "metadata": {
      "needs_background": "light"
     },
     "output_type": "display_data"
    }
   ],
   "source": [
    "plt.plot(history.history['accuracy'])\n",
    "plt.title('model accuracy')\n",
    "plt.ylabel('accuracy')\n",
    "plt.xlabel('epoch')\n",
    "plt.legend(['train'] , loc='upper left')\n",
    "plt.show()"
   ]
  },
  {
   "cell_type": "code",
   "execution_count": 45,
   "id": "62862a93",
   "metadata": {},
   "outputs": [
    {
     "data": {
      "image/png": "[encoded data removed]",
      "text/plain": [
       "<Figure size 432x288 with 1 Axes>"
      ]
     },
     "metadata": {
      "needs_background": "light"
     },
     "output_type": "display_data"
    }
   ],
   "source": [
    "plt.plot(history.history['loss'])\n",
    "plt.title('model loss')\n",
    "plt.ylabel('loss')\n",
    "plt.xlabel('epoch')\n",
    "plt.legend(['train'] , loc='upper left')\n",
    "plt.show()"
   ]
  },
  {
   "cell_type": "code",
   "execution_count": null,
   "id": "bce37ca5",
   "metadata": {},
   "outputs": [],
   "source": []
  },
  {
   "cell_type": "code",
   "execution_count": null,
   "id": "69ad6c68",
   "metadata": {},
   "outputs": [],
   "source": []
  },
  {
   "cell_type": "code",
   "execution_count": null,
   "id": "41937c82",
   "metadata": {},
   "outputs": [],
   "source": []
  },
  {
   "cell_type": "code",
   "execution_count": 55,
   "id": "c2219415",
   "metadata": {},
   "outputs": [],
   "source": []
  },
  {
   "cell_type": "code",
   "execution_count": null,
   "id": "0ac1253a",
   "metadata": {},
   "outputs": [],
   "source": []
  },
  {
   "cell_type": "code",
   "execution_count": null,
   "id": "6c0ed4fb",
   "metadata": {},
   "outputs": [],
   "source": []
  }
 ],
 "metadata": {
  "kernelspec": {
   "display_name": "Python 3",
   "language": "python",
   "name": "python3"
  },
  "language_info": {
   "codemirror_mode": {
    "name": "ipython",
    "version": 3
   },
   "file_extension": ".py",
   "mimetype": "text/x-python",
   "name": "python",
   "nbconvert_exporter": "python",
   "pygments_lexer": "ipython3",
   "version": "3.8.8"
  }
 },
 "nbformat": 4,
 "nbformat_minor": 5
}
