{
 "cells": [
  {
   "cell_type": "code",
   "execution_count": 2,
   "id": "086fabd4",
   "metadata": {},
   "outputs": [],
   "source": [
    "import numpy as np\n",
    "import matplotlib.pyplot as plt\n",
    "%matplotlib inline\n",
    "import os\n",
    "import cv2\n",
    "import tensorflow as tf\n",
    "from tensorflow import keras"
   ]
  },
  {
   "cell_type": "code",
   "execution_count": 3,
   "id": "a4c0b974",
   "metadata": {
    "scrolled": false
   },
   "outputs": [],
   "source": [
    "IMG_SIZE=50\n",
    "dataset=r'C:\\\\Users\\\\DELL\\\\images_datasetANN\\\\train'\n",
    "categories=['GuideSign','M1','M4','M5','M6','M7',\"P1\",'P10_50',\"P12\",'W1']"
   ]
  },
  {
   "cell_type": "code",
   "execution_count": 4,
   "id": "d021eced",
   "metadata": {},
   "outputs": [],
   "source": [
    "training_data=[]\n",
    "\n",
    "for c in categories:\n",
    "    path=os.path.join(dataset,c)\n",
    "    class_num=categories.index(c)\n",
    "    for img in os.listdir(path):\n",
    "        try:\n",
    "            img_arrary=cv2.imread(os.path.join(path,img),cv2.IMREAD_GRAYSCALE)\n",
    "            new_array=cv2.resize(img_arrary,(IMG_SIZE,IMG_SIZE))\n",
    "            training_data.append([new_array,class_num])\n",
    "        except Exception as e:\n",
    "            pass\n"
   ]
  },
  {
   "cell_type": "code",
   "execution_count": 5,
   "id": "4fb2d11c",
   "metadata": {},
   "outputs": [],
   "source": [
    "import random\n",
    "random.shuffle(training_data)"
   ]
  },
  {
   "cell_type": "code",
   "execution_count": 9,
   "id": "b0f0bdcd",
   "metadata": {
    "scrolled": true
   },
   "outputs": [
    {
     "name": "stdout",
     "output_type": "stream",
     "text": [
      "3\n",
      "0\n",
      "2\n",
      "5\n",
      "[[166 166 166 ... 163 162 162]\n",
      " [166 166 166 ... 163 162 162]\n",
      " [166 166 166 ... 162 162 162]\n",
      " ...\n",
      " [ 74  35  29 ...  35  41  40]\n",
      " [ 77  54  49 ...   8   5  14]\n",
      " [ 87  87 118 ...  21  16  17]]\n"
     ]
    }
   ],
   "source": [
    "for sample in training_data[:4]:\n",
    "    print(sample[1])\n",
    "print(new_array)"
   ]
  },
  {
   "cell_type": "code",
   "execution_count": 10,
   "id": "7353dd4b",
   "metadata": {},
   "outputs": [],
   "source": [
    "X=[]\n",
    "y=[]\n",
    "from sklearn.model_selection import train_test_split"
   ]
  },
  {
   "cell_type": "code",
   "execution_count": 11,
   "id": "dcc1fff8",
   "metadata": {
    "scrolled": true
   },
   "outputs": [
    {
     "name": "stdout",
     "output_type": "stream",
     "text": [
      "6024\n",
      "6024\n"
     ]
    },
    {
     "data": {
      "image/png": "[encoded data removed]",
      "text/plain": [
       "<Figure size 432x288 with 1 Axes>"
      ]
     },
     "metadata": {
      "needs_background": "light"
     },
     "output_type": "display_data"
    }
   ],
   "source": [
    "for feature ,label in training_data: \n",
    "    X.append(feature)\n",
    "    y.append(label)\n",
    "plt.imshow(X[1])\n",
    "Q=X[0]/255\n",
    "Q\n",
    "print(len(y))\n",
    "print(len(X))"
   ]
  },
  {
   "cell_type": "code",
   "execution_count": 12,
   "id": "185631b7",
   "metadata": {},
   "outputs": [],
   "source": [
    "X=np.array(X)\n",
    "y=np.array(y)"
   ]
  },
  {
   "cell_type": "code",
   "execution_count": 13,
   "id": "331cf87e",
   "metadata": {},
   "outputs": [],
   "source": [
    "X_train,X_test,y_train,y_test=train_test_split(X,y,test_size=0.2)\n"
   ]
  },
  {
   "cell_type": "code",
   "execution_count": 14,
   "id": "1dfd4b4a",
   "metadata": {},
   "outputs": [],
   "source": [
    "X_train=X_train/255\n",
    "X_test=X_test/255\n",
    "\n",
    "X_train_flatten=X_train.reshape(len(X_train),50*50)\n",
    "X_test_flatten=X_test.reshape(len(X_test),50*50)"
   ]
  },
  {
   "cell_type": "code",
   "execution_count": 15,
   "id": "518c790f",
   "metadata": {},
   "outputs": [
    {
     "data": {
      "text/plain": [
       "(1205, 2500)"
      ]
     },
     "execution_count": 15,
     "metadata": {},
     "output_type": "execute_result"
    }
   ],
   "source": [
    "X_test_flatten.shape"
   ]
  },
  {
   "cell_type": "code",
   "execution_count": 16,
   "id": "2b0c76b3",
   "metadata": {},
   "outputs": [
    {
     "data": {
      "text/plain": [
       "array([0.42352941, 0.38039216, 0.35294118, ..., 0.32941176, 0.32941176,\n",
       "       0.32941176])"
      ]
     },
     "execution_count": 16,
     "metadata": {},
     "output_type": "execute_result"
    }
   ],
   "source": [
    "X_train[0]\n",
    "X_train_flatten[0]"
   ]
  },
  {
   "cell_type": "code",
   "execution_count": 17,
   "id": "26fd51a1",
   "metadata": {},
   "outputs": [
    {
     "name": "stdout",
     "output_type": "stream",
     "text": [
      "Epoch 1/100\n",
      "151/151 [==============================] - 0s 796us/step - loss: 1.3562 - accuracy: 0.5773\n",
      "Epoch 2/100\n",
      "151/151 [==============================] - 0s 755us/step - loss: 1.0396 - accuracy: 0.6931\n",
      "Epoch 3/100\n",
      "151/151 [==============================] - 0s 759us/step - loss: 0.9268 - accuracy: 0.7134\n",
      "Epoch 4/100\n",
      "151/151 [==============================] - 0s 844us/step - loss: 0.8681 - accuracy: 0.7282\n",
      "Epoch 5/100\n",
      "151/151 [==============================] - 0s 803us/step - loss: 0.8240 - accuracy: 0.7425\n",
      "Epoch 6/100\n",
      "151/151 [==============================] - 0s 901us/step - loss: 0.8022 - accuracy: 0.7522\n",
      "Epoch 7/100\n",
      "151/151 [==============================] - 0s 832us/step - loss: 0.7860 - accuracy: 0.7568\n",
      "Epoch 8/100\n",
      "151/151 [==============================] - 0s 766us/step - loss: 0.7564 - accuracy: 0.7686\n",
      "Epoch 9/100\n",
      "151/151 [==============================] - 0s 784us/step - loss: 0.7439 - accuracy: 0.7719\n",
      "Epoch 10/100\n",
      "151/151 [==============================] - 0s 783us/step - loss: 0.7314 - accuracy: 0.7751\n",
      "Epoch 11/100\n",
      "151/151 [==============================] - 0s 771us/step - loss: 0.7091 - accuracy: 0.7825\n",
      "Epoch 12/100\n",
      "151/151 [==============================] - 0s 779us/step - loss: 0.6999 - accuracy: 0.7883\n",
      "Epoch 13/100\n",
      "151/151 [==============================] - 0s 760us/step - loss: 0.6882 - accuracy: 0.7933\n",
      "Epoch 14/100\n",
      "151/151 [==============================] - 0s 748us/step - loss: 0.6677 - accuracy: 0.7944\n",
      "Epoch 15/100\n",
      "151/151 [==============================] - 0s 745us/step - loss: 0.6611 - accuracy: 0.8020\n",
      "Epoch 16/100\n",
      "151/151 [==============================] - 0s 772us/step - loss: 0.6325 - accuracy: 0.8083\n",
      "Epoch 17/100\n",
      "151/151 [==============================] - 0s 733us/step - loss: 0.6227 - accuracy: 0.8076\n",
      "Epoch 18/100\n",
      "151/151 [==============================] - 0s 759us/step - loss: 0.6098 - accuracy: 0.8141\n",
      "Epoch 19/100\n",
      "151/151 [==============================] - 0s 747us/step - loss: 0.5978 - accuracy: 0.8220\n",
      "Epoch 20/100\n",
      "151/151 [==============================] - 0s 765us/step - loss: 0.5816 - accuracy: 0.8298\n",
      "Epoch 21/100\n",
      "151/151 [==============================] - 0s 801us/step - loss: 0.5788 - accuracy: 0.8253\n",
      "Epoch 22/100\n",
      "151/151 [==============================] - 0s 897us/step - loss: 0.5653 - accuracy: 0.8359\n",
      "Epoch 23/100\n",
      "151/151 [==============================] - 0s 868us/step - loss: 0.5515 - accuracy: 0.8340\n",
      "Epoch 24/100\n",
      "151/151 [==============================] - 0s 853us/step - loss: 0.5577 - accuracy: 0.8379\n",
      "Epoch 25/100\n",
      "151/151 [==============================] - 0s 815us/step - loss: 0.5443 - accuracy: 0.8392\n",
      "Epoch 26/100\n",
      "151/151 [==============================] - 0s 1ms/step - loss: 0.5344 - accuracy: 0.8433\n",
      "Epoch 27/100\n",
      "151/151 [==============================] - 0s 987us/step - loss: 0.5303 - accuracy: 0.8406\n",
      "Epoch 28/100\n",
      "151/151 [==============================] - 0s 845us/step - loss: 0.5270 - accuracy: 0.8446\n",
      "Epoch 29/100\n",
      "151/151 [==============================] - 0s 777us/step - loss: 0.5211 - accuracy: 0.8454\n",
      "Epoch 30/100\n",
      "151/151 [==============================] - 0s 779us/step - loss: 0.5153 - accuracy: 0.8462\n",
      "Epoch 31/100\n",
      "151/151 [==============================] - 0s 750us/step - loss: 0.5085 - accuracy: 0.8533\n",
      "Epoch 32/100\n",
      "151/151 [==============================] - 0s 785us/step - loss: 0.5002 - accuracy: 0.8552\n",
      "Epoch 33/100\n",
      "151/151 [==============================] - ETA: 0s - loss: 0.5063 - accuracy: 0.85 - 0s 783us/step - loss: 0.4973 - accuracy: 0.8560\n",
      "Epoch 34/100\n",
      "151/151 [==============================] - 0s 775us/step - loss: 0.5008 - accuracy: 0.8510\n",
      "Epoch 35/100\n",
      "151/151 [==============================] - 0s 782us/step - loss: 0.4927 - accuracy: 0.8506\n",
      "Epoch 36/100\n",
      "151/151 [==============================] - 0s 906us/step - loss: 0.4892 - accuracy: 0.8539\n",
      "Epoch 37/100\n",
      "151/151 [==============================] - 0s 840us/step - loss: 0.4862 - accuracy: 0.8564\n",
      "Epoch 38/100\n",
      "151/151 [==============================] - 0s 857us/step - loss: 0.4805 - accuracy: 0.8589\n",
      "Epoch 39/100\n",
      "151/151 [==============================] - 0s 760us/step - loss: 0.4820 - accuracy: 0.8516\n",
      "Epoch 40/100\n",
      "151/151 [==============================] - 0s 783us/step - loss: 0.4781 - accuracy: 0.8572\n",
      "Epoch 41/100\n",
      "151/151 [==============================] - 0s 752us/step - loss: 0.4839 - accuracy: 0.8564\n",
      "Epoch 42/100\n",
      "151/151 [==============================] - 0s 770us/step - loss: 0.4756 - accuracy: 0.8560\n",
      "Epoch 43/100\n",
      "151/151 [==============================] - 0s 838us/step - loss: 0.4757 - accuracy: 0.8608\n",
      "Epoch 44/100\n",
      "151/151 [==============================] - 0s 873us/step - loss: 0.4709 - accuracy: 0.8570\n",
      "Epoch 45/100\n",
      "151/151 [==============================] - 0s 847us/step - loss: 0.4697 - accuracy: 0.8618\n",
      "Epoch 46/100\n",
      "151/151 [==============================] - 0s 855us/step - loss: 0.4660 - accuracy: 0.8603\n",
      "Epoch 47/100\n",
      "151/151 [==============================] - 0s 760us/step - loss: 0.4542 - accuracy: 0.8647\n",
      "Epoch 48/100\n",
      "151/151 [==============================] - 0s 746us/step - loss: 0.4646 - accuracy: 0.8599\n",
      "Epoch 49/100\n",
      "151/151 [==============================] - 0s 774us/step - loss: 0.4578 - accuracy: 0.8620\n",
      "Epoch 50/100\n",
      "151/151 [==============================] - 0s 761us/step - loss: 0.4558 - accuracy: 0.8622\n",
      "Epoch 51/100\n",
      "151/151 [==============================] - 0s 742us/step - loss: 0.4588 - accuracy: 0.8618\n",
      "Epoch 52/100\n",
      "151/151 [==============================] - 0s 764us/step - loss: 0.4533 - accuracy: 0.8670\n",
      "Epoch 53/100\n",
      "151/151 [==============================] - 0s 776us/step - loss: 0.4493 - accuracy: 0.8678\n",
      "Epoch 54/100\n",
      "151/151 [==============================] - 0s 775us/step - loss: 0.4401 - accuracy: 0.8709\n",
      "Epoch 55/100\n",
      "151/151 [==============================] - 0s 791us/step - loss: 0.4498 - accuracy: 0.8691\n",
      "Epoch 56/100\n",
      "151/151 [==============================] - 0s 749us/step - loss: 0.4409 - accuracy: 0.8693\n",
      "Epoch 57/100\n",
      "151/151 [==============================] - 0s 777us/step - loss: 0.4371 - accuracy: 0.8678\n",
      "Epoch 58/100\n",
      "151/151 [==============================] - 0s 801us/step - loss: 0.4340 - accuracy: 0.8703\n",
      "Epoch 59/100\n",
      "151/151 [==============================] - 0s 768us/step - loss: 0.4318 - accuracy: 0.8693\n",
      "Epoch 60/100\n",
      "151/151 [==============================] - 0s 749us/step - loss: 0.4459 - accuracy: 0.8643\n",
      "Epoch 61/100\n",
      "151/151 [==============================] - 0s 727us/step - loss: 0.4363 - accuracy: 0.8684\n",
      "Epoch 62/100\n",
      "151/151 [==============================] - 0s 741us/step - loss: 0.4350 - accuracy: 0.8718\n",
      "Epoch 63/100\n",
      "151/151 [==============================] - 0s 740us/step - loss: 0.4314 - accuracy: 0.8732\n",
      "Epoch 64/100\n",
      "151/151 [==============================] - 0s 719us/step - loss: 0.4347 - accuracy: 0.8686\n",
      "Epoch 65/100\n",
      "151/151 [==============================] - 0s 750us/step - loss: 0.4358 - accuracy: 0.8722\n",
      "Epoch 66/100\n",
      "151/151 [==============================] - 0s 747us/step - loss: 0.4351 - accuracy: 0.8684\n",
      "Epoch 67/100\n",
      "151/151 [==============================] - 0s 732us/step - loss: 0.4290 - accuracy: 0.8751\n",
      "Epoch 68/100\n",
      "151/151 [==============================] - 0s 745us/step - loss: 0.4319 - accuracy: 0.8716\n",
      "Epoch 69/100\n",
      "151/151 [==============================] - 0s 805us/step - loss: 0.4246 - accuracy: 0.8730\n",
      "Epoch 70/100\n",
      "151/151 [==============================] - 0s 796us/step - loss: 0.4350 - accuracy: 0.8709\n",
      "Epoch 71/100\n",
      "151/151 [==============================] - 0s 775us/step - loss: 0.4277 - accuracy: 0.8747\n",
      "Epoch 72/100\n",
      "151/151 [==============================] - 0s 748us/step - loss: 0.4190 - accuracy: 0.8751\n",
      "Epoch 73/100\n",
      "151/151 [==============================] - 0s 823us/step - loss: 0.4252 - accuracy: 0.8693\n",
      "Epoch 74/100\n",
      "151/151 [==============================] - 0s 759us/step - loss: 0.4179 - accuracy: 0.8755\n",
      "Epoch 75/100\n",
      "151/151 [==============================] - 0s 741us/step - loss: 0.4194 - accuracy: 0.8796\n",
      "Epoch 76/100\n",
      "151/151 [==============================] - 0s 730us/step - loss: 0.4138 - accuracy: 0.8790\n",
      "Epoch 77/100\n",
      "151/151 [==============================] - 0s 759us/step - loss: 0.4213 - accuracy: 0.8720\n",
      "Epoch 78/100\n",
      "151/151 [==============================] - 0s 849us/step - loss: 0.4185 - accuracy: 0.8765\n",
      "Epoch 79/100\n"
     ]
    },
    {
     "name": "stdout",
     "output_type": "stream",
     "text": [
      "151/151 [==============================] - 0s 782us/step - loss: 0.4121 - accuracy: 0.8763\n",
      "Epoch 80/100\n",
      "151/151 [==============================] - 0s 835us/step - loss: 0.4087 - accuracy: 0.8796\n",
      "Epoch 81/100\n",
      "151/151 [==============================] - 0s 795us/step - loss: 0.4177 - accuracy: 0.8780\n",
      "Epoch 82/100\n",
      "151/151 [==============================] - 0s 780us/step - loss: 0.4068 - accuracy: 0.8796\n",
      "Epoch 83/100\n",
      "151/151 [==============================] - 0s 789us/step - loss: 0.4090 - accuracy: 0.8786\n",
      "Epoch 84/100\n",
      "151/151 [==============================] - 0s 822us/step - loss: 0.4033 - accuracy: 0.8790\n",
      "Epoch 85/100\n",
      "151/151 [==============================] - 0s 730us/step - loss: 0.4038 - accuracy: 0.8788\n",
      "Epoch 86/100\n",
      "151/151 [==============================] - 0s 771us/step - loss: 0.4128 - accuracy: 0.8799\n",
      "Epoch 87/100\n",
      "151/151 [==============================] - 0s 741us/step - loss: 0.4071 - accuracy: 0.8767\n",
      "Epoch 88/100\n",
      "151/151 [==============================] - 0s 802us/step - loss: 0.3974 - accuracy: 0.8780\n",
      "Epoch 89/100\n",
      "151/151 [==============================] - 0s 805us/step - loss: 0.4043 - accuracy: 0.8780\n",
      "Epoch 90/100\n",
      "151/151 [==============================] - 0s 757us/step - loss: 0.3976 - accuracy: 0.8778\n",
      "Epoch 91/100\n",
      "151/151 [==============================] - 0s 774us/step - loss: 0.4010 - accuracy: 0.8809\n",
      "Epoch 92/100\n",
      "151/151 [==============================] - 0s 769us/step - loss: 0.3986 - accuracy: 0.8838\n",
      "Epoch 93/100\n",
      "151/151 [==============================] - 0s 737us/step - loss: 0.3987 - accuracy: 0.8796\n",
      "Epoch 94/100\n",
      "151/151 [==============================] - 0s 715us/step - loss: 0.3999 - accuracy: 0.8836\n",
      "Epoch 95/100\n",
      "151/151 [==============================] - 0s 784us/step - loss: 0.3973 - accuracy: 0.8828\n",
      "Epoch 96/100\n",
      "151/151 [==============================] - 0s 809us/step - loss: 0.4035 - accuracy: 0.8796\n",
      "Epoch 97/100\n",
      "151/151 [==============================] - 0s 724us/step - loss: 0.3990 - accuracy: 0.8790\n",
      "Epoch 98/100\n",
      "151/151 [==============================] - 0s 738us/step - loss: 0.4036 - accuracy: 0.8828\n",
      "Epoch 99/100\n",
      "151/151 [==============================] - 0s 852us/step - loss: 0.3935 - accuracy: 0.8819\n",
      "Epoch 100/100\n",
      "151/151 [==============================] - 0s 758us/step - loss: 0.4025 - accuracy: 0.8844\n"
     ]
    }
   ],
   "source": [
    "ann = tf.keras.models.Sequential()\n",
    "ann.add(tf.keras.layers.Dense(units=10,input_shape=(2500,), activation='relu'))\n",
    "ann.add(tf.keras.layers.Dense(units=100, activation='relu'))\n",
    "ann.add(tf.keras.layers.Dense(units=50, activation='relu'))\n",
    "ann.add(tf.keras.layers.Dense(units=10, activation='sigmoid'))\n",
    "ann.compile(\n",
    "    loss='sparse_categorical_crossentropy',\n",
    "     metrics=['accuracy']\n",
    ")\n",
    "history=ann.fit(X_train_flatten, y_train,epochs=100)"
   ]
  },
  {
   "cell_type": "code",
   "execution_count": 18,
   "id": "4c8ee5df",
   "metadata": {
    "scrolled": true
   },
   "outputs": [
    {
     "name": "stdout",
     "output_type": "stream",
     "text": [
      "38/38 [==============================] - 0s 823us/step - loss: 0.5498 - accuracy: 0.8490\n"
     ]
    },
    {
     "data": {
      "text/plain": [
       "[0.5498490333557129, 0.848962664604187]"
      ]
     },
     "execution_count": 18,
     "metadata": {},
     "output_type": "execute_result"
    }
   ],
   "source": [
    "ann.evaluate(X_test_flatten,y_test)"
   ]
  },
  {
   "cell_type": "code",
   "execution_count": 19,
   "id": "f5f019c5",
   "metadata": {},
   "outputs": [
    {
     "data": {
      "text/plain": [
       "2"
      ]
     },
     "execution_count": 19,
     "metadata": {},
     "output_type": "execute_result"
    },
    {
     "data": {
      "image/png": "[encoded data removed]",
      "text/plain": [
       "<Figure size 432x288 with 1 Axes>"
      ]
     },
     "metadata": {
      "needs_background": "light"
     },
     "output_type": "display_data"
    }
   ],
   "source": [
    "y_pred = ann.predict(X_test_flatten)\n",
    "\n",
    "plt.imshow(X_test[0])\n",
    "np.argmax(y_pred[0])"
   ]
  },
  {
   "cell_type": "code",
   "execution_count": 20,
   "id": "c61aeda4",
   "metadata": {},
   "outputs": [],
   "source": [
    "y_predicted_labels = [np.argmax(i) for i in y_pred]"
   ]
  },
  {
   "cell_type": "markdown",
   "id": "61124253",
   "metadata": {},
   "source": [
    "# confusion_matrix && accuracy_score"
   ]
  },
  {
   "cell_type": "code",
   "execution_count": 21,
   "id": "b2922a3a",
   "metadata": {},
   "outputs": [
    {
     "name": "stdout",
     "output_type": "stream",
     "text": [
      "tf.Tensor(\n",
      "[[216   0  28   0   1   4   4   0   0   1]\n",
      " [  0  32   4   0   0   2   8   0   0   0]\n",
      " [ 32   5 590   1   0   5   0   3   0   0]\n",
      " [  5   5  15  14   5   0   1   0   0   0]\n",
      " [  1   4   3   2  20   0   0   0   0   0]\n",
      " [  5   4   2   0   0  75   1   0   0   1]\n",
      " [  4   3   2   0   0   2  33   0   0   0]\n",
      " [  0   0   1   0   0   0   0  11   0   0]\n",
      " [  0   0   6   0   0   0   1   0   9   0]\n",
      " [  1   0   1   0   0   9   0   0   0  23]], shape=(10, 10), dtype=int32)\n"
     ]
    },
    {
     "data": {
      "text/plain": [
       "0.8489626556016597"
      ]
     },
     "execution_count": 21,
     "metadata": {},
     "output_type": "execute_result"
    }
   ],
   "source": [
    "from sklearn.metrics import confusion_matrix, accuracy_score\n",
    "cm = tf.math.confusion_matrix(labels=y_test,predictions=y_predicted_labels)\n",
    "print(cm)\n",
    "accuracy_score(y_test, y_predicted_labels)"
   ]
  },
  {
   "cell_type": "markdown",
   "id": "88b78d02",
   "metadata": {},
   "source": [
    "# ROC Model"
   ]
  },
  {
   "cell_type": "code",
   "execution_count": 22,
   "id": "252be895",
   "metadata": {
    "scrolled": true
   },
   "outputs": [
    {
     "data": {
      "text/plain": [
       "<matplotlib.legend.Legend at 0x1fc54503280>"
      ]
     },
     "execution_count": 22,
     "metadata": {},
     "output_type": "execute_result"
    },
    {
     "data": {
      "image/png": "[encoded data removed]",
      "text/plain": [
       "<Figure size 432x288 with 1 Axes>"
      ]
     },
     "metadata": {
      "needs_background": "light"
     },
     "output_type": "display_data"
    }
   ],
   "source": [
    "from sklearn.metrics import roc_curve, auc\n",
    "import matplotlib.pyplot as plt\n",
    "from collections import Counter\n",
    "\n",
    "y_pred1 = ann.predict(X_test_flatten)\n",
    "y_pred1=[np.argmax(i) for i in y_pred1]\n",
    "\n",
    "\n",
    "\n",
    "\n",
    "for i in range(10):\n",
    "    nn_fpr_keras, nn_tpr_keras, nn_thresholds_keras = roc_curve(y_test  , y_pred1, pos_label=i)\n",
    "    auc_keras = auc(nn_fpr_keras, nn_tpr_keras)\n",
    "    plt.plot(nn_fpr_keras, nn_tpr_keras,marker='.'.format(), label='class # %0.f' % i)\n",
    "    \n",
    "plt.legend(loc=\"lower right\")\n"
   ]
  },
  {
   "cell_type": "markdown",
   "id": "cdbe84b5",
   "metadata": {},
   "source": [
    "# loss curve"
   ]
  },
  {
   "cell_type": "code",
   "execution_count": 23,
   "id": "578b7fe5",
   "metadata": {},
   "outputs": [
    {
     "data": {
      "image/png": "[encoded data removed]",
      "text/plain": [
       "<Figure size 432x288 with 1 Axes>"
      ]
     },
     "metadata": {
      "needs_background": "light"
     },
     "output_type": "display_data"
    }
   ],
   "source": [
    "plt.plot(history.history['loss'])\n",
    "plt.title('model loss')\n",
    "plt.ylabel('loss')\n",
    "plt.xlabel('epoch')\n",
    "plt.legend(['train'] , loc='upper left')\n",
    "plt.show()"
   ]
  },
  {
   "cell_type": "code",
   "execution_count": null,
   "id": "056b28cc",
   "metadata": {},
   "outputs": [],
   "source": []
  }
 ],
 "metadata": {
  "kernelspec": {
   "display_name": "Python 3 (ipykernel)",
   "language": "python",
   "name": "python3"
  },
  "language_info": {
   "codemirror_mode": {
    "name": "ipython",
    "version": 3
   },
   "file_extension": ".py",
   "mimetype": "text/x-python",
   "name": "python",
   "nbconvert_exporter": "python",
   "pygments_lexer": "ipython3",
   "version": "3.9.7"
  }
 },
 "nbformat": 4,
 "nbformat_minor": 5
}
