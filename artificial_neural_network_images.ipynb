{
 "cells": [
  {
   "cell_type": "code",
   "execution_count": 401,
   "id": "086fabd4",
   "metadata": {},
   "outputs": [],
   "source": [
    "import numpy as np\n",
    "import matplotlib.pyplot as plt\n",
    "%matplotlib inline\n",
    "import os\n",
    "import cv2\n",
    "import tensorflow as tf\n",
    "from tensorflow import keras"
   ]
  },
  {
   "cell_type": "code",
   "execution_count": 402,
   "id": "a4c0b974",
   "metadata": {
    "scrolled": false
   },
   "outputs": [],
   "source": [
    "IMG_SIZE=50\n",
    "dataset=r'F:\\selectedpro\\image\\train_dataset\\train'\n",
    "categories=['GS','M1','M4','M5','M6','M7',\"P50\",'P1',\"P12\",'W1']"
   ]
  },
  {
   "cell_type": "code",
   "execution_count": 403,
   "id": "d021eced",
   "metadata": {},
   "outputs": [],
   "source": [
    "training_data=[]\n",
    "\n",
    "for c in categories:\n",
    "    path=os.path.join(dataset,c)\n",
    "    class_num=categories.index(c)\n",
    "    for img in os.listdir(path):\n",
    "        try:\n",
    "            img_arrary=cv2.imread(os.path.join(path,img),cv2.IMREAD_GRAYSCALE)\n",
    "            new_array=cv2.resize(img_arrary,(IMG_SIZE,IMG_SIZE))\n",
    "            training_data.append([new_array,class_num])\n",
    "        except Exception as e:\n",
    "            pass\n"
   ]
  },
  {
   "cell_type": "code",
   "execution_count": 404,
   "id": "4fb2d11c",
   "metadata": {},
   "outputs": [],
   "source": [
    "import random\n",
    "random.shuffle(training_data)"
   ]
  },
  {
   "cell_type": "code",
   "execution_count": 405,
   "id": "b0f0bdcd",
   "metadata": {
    "scrolled": true
   },
   "outputs": [
    {
     "name": "stdout",
     "output_type": "stream",
     "text": [
      "1\n",
      "4\n",
      "1\n",
      "2\n",
      "[[166 166 166 ... 163 162 162]\n",
      " [166 166 166 ... 163 162 162]\n",
      " [166 166 166 ... 162 162 162]\n",
      " ...\n",
      " [ 74  35  29 ...  35  41  40]\n",
      " [ 77  54  49 ...   8   5  14]\n",
      " [ 87  87 118 ...  21  16  17]]\n"
     ]
    }
   ],
   "source": [
    "for sample in training_data[:4]:\n",
    "    print(sample[1])\n",
    "print(new_array)"
   ]
  },
  {
   "cell_type": "code",
   "execution_count": 406,
   "id": "7353dd4b",
   "metadata": {},
   "outputs": [],
   "source": [
    "X=[]\n",
    "y=[]\n",
    "from sklearn.model_selection import train_test_split"
   ]
  },
  {
   "cell_type": "code",
   "execution_count": 407,
   "id": "dcc1fff8",
   "metadata": {
    "scrolled": true
   },
   "outputs": [
    {
     "name": "stdout",
     "output_type": "stream",
     "text": [
      "6348\n",
      "6348\n"
     ]
    },
    {
     "data": {
      "image/png": "[encoded data removed]",
      "text/plain": [
       "<Figure size 432x288 with 1 Axes>"
      ]
     },
     "metadata": {
      "needs_background": "light"
     },
     "output_type": "display_data"
    }
   ],
   "source": [
    "for feature ,label in training_data: \n",
    "    X.append(feature)\n",
    "    y.append(label)\n",
    "plt.imshow(X[1])\n",
    "Q=X[0]/255\n",
    "Q\n",
    "print(len(y))\n",
    "print(len(X))"
   ]
  },
  {
   "cell_type": "code",
   "execution_count": 408,
   "id": "185631b7",
   "metadata": {},
   "outputs": [],
   "source": [
    "X=np.array(X)\n",
    "y=np.array(y)"
   ]
  },
  {
   "cell_type": "code",
   "execution_count": 409,
   "id": "331cf87e",
   "metadata": {},
   "outputs": [],
   "source": [
    "X_train,X_test,y_train,y_test=train_test_split(X,y,test_size=0.2)\n"
   ]
  },
  {
   "cell_type": "code",
   "execution_count": 410,
   "id": "1dfd4b4a",
   "metadata": {},
   "outputs": [],
   "source": [
    "X_train=X_train/255\n",
    "X_test=X_test/255\n",
    "\n",
    "X_train_flatten=X_train.reshape(len(X_train),50*50)\n",
    "X_test_flatten=X_test.reshape(len(X_test),50*50)"
   ]
  },
  {
   "cell_type": "code",
   "execution_count": 411,
   "id": "518c790f",
   "metadata": {},
   "outputs": [
    {
     "data": {
      "text/plain": [
       "(1270, 2500)"
      ]
     },
     "execution_count": 411,
     "metadata": {},
     "output_type": "execute_result"
    }
   ],
   "source": [
    "X_test_flatten.shape"
   ]
  },
  {
   "cell_type": "code",
   "execution_count": 412,
   "id": "2b0c76b3",
   "metadata": {},
   "outputs": [
    {
     "data": {
      "text/plain": [
       "array([0.69019608, 0.70196078, 0.71372549, ..., 0.33333333, 0.34117647,\n",
       "       0.34509804])"
      ]
     },
     "execution_count": 412,
     "metadata": {},
     "output_type": "execute_result"
    }
   ],
   "source": [
    "X_train[0]\n",
    "X_train_flatten[0]"
   ]
  },
  {
   "cell_type": "code",
   "execution_count": 413,
   "id": "26fd51a1",
   "metadata": {},
   "outputs": [
    {
     "name": "stdout",
     "output_type": "stream",
     "text": [
      "Epoch 1/100\n",
      "159/159 [==============================] - 1s 2ms/step - loss: 1.3017 - accuracy: 0.6052\n",
      "Epoch 2/100\n",
      "159/159 [==============================] - 0s 2ms/step - loss: 1.0145 - accuracy: 0.6952\n",
      "Epoch 3/100\n",
      "159/159 [==============================] - 0s 2ms/step - loss: 0.9334 - accuracy: 0.7052\n",
      "Epoch 4/100\n",
      "159/159 [==============================] - 0s 2ms/step - loss: 0.8782 - accuracy: 0.7152\n",
      "Epoch 5/100\n",
      "159/159 [==============================] - 0s 2ms/step - loss: 0.8427 - accuracy: 0.7292\n",
      "Epoch 6/100\n",
      "159/159 [==============================] - 0s 2ms/step - loss: 0.7941 - accuracy: 0.7442\n",
      "Epoch 7/100\n",
      "159/159 [==============================] - 0s 2ms/step - loss: 0.7319 - accuracy: 0.7615\n",
      "Epoch 8/100\n",
      "159/159 [==============================] - 0s 2ms/step - loss: 0.6851 - accuracy: 0.7824\n",
      "Epoch 9/100\n",
      "159/159 [==============================] - 0s 2ms/step - loss: 0.6574 - accuracy: 0.7946\n",
      "Epoch 10/100\n",
      "159/159 [==============================] - 0s 2ms/step - loss: 0.6276 - accuracy: 0.8086\n",
      "Epoch 11/100\n",
      "159/159 [==============================] - 0s 2ms/step - loss: 0.6119 - accuracy: 0.8102\n",
      "Epoch 12/100\n",
      "159/159 [==============================] - 0s 1ms/step - loss: 0.5824 - accuracy: 0.8171\n",
      "Epoch 13/100\n",
      "159/159 [==============================] - 0s 2ms/step - loss: 0.5783 - accuracy: 0.8167\n",
      "Epoch 14/100\n",
      "159/159 [==============================] - 0s 2ms/step - loss: 0.5686 - accuracy: 0.8204\n",
      "Epoch 15/100\n",
      "159/159 [==============================] - 0s 2ms/step - loss: 0.5482 - accuracy: 0.8330\n",
      "Epoch 16/100\n",
      "159/159 [==============================] - 0s 2ms/step - loss: 0.5501 - accuracy: 0.8302\n",
      "Epoch 17/100\n",
      "159/159 [==============================] - 0s 2ms/step - loss: 0.5330 - accuracy: 0.8301\n",
      "Epoch 18/100\n",
      "159/159 [==============================] - 0s 1ms/step - loss: 0.5200 - accuracy: 0.8393\n",
      "Epoch 19/100\n",
      "159/159 [==============================] - 0s 2ms/step - loss: 0.5080 - accuracy: 0.8434\n",
      "Epoch 20/100\n",
      "159/159 [==============================] - 0s 2ms/step - loss: 0.5008 - accuracy: 0.8446\n",
      "Epoch 21/100\n",
      "159/159 [==============================] - 0s 2ms/step - loss: 0.4980 - accuracy: 0.8460\n",
      "Epoch 22/100\n",
      "159/159 [==============================] - 0s 2ms/step - loss: 0.4880 - accuracy: 0.8446\n",
      "Epoch 23/100\n",
      "159/159 [==============================] - 0s 1ms/step - loss: 0.4854 - accuracy: 0.8497\n",
      "Epoch 24/100\n",
      "159/159 [==============================] - 0s 2ms/step - loss: 0.4714 - accuracy: 0.8557\n",
      "Epoch 25/100\n",
      "159/159 [==============================] - 0s 2ms/step - loss: 0.4795 - accuracy: 0.8505\n",
      "Epoch 26/100\n",
      "159/159 [==============================] - 0s 2ms/step - loss: 0.4582 - accuracy: 0.8586\n",
      "Epoch 27/100\n",
      "159/159 [==============================] - 0s 2ms/step - loss: 0.4624 - accuracy: 0.8598\n",
      "Epoch 28/100\n",
      "159/159 [==============================] - 0s 2ms/step - loss: 0.4549 - accuracy: 0.8576\n",
      "Epoch 29/100\n",
      "159/159 [==============================] - 0s 2ms/step - loss: 0.4501 - accuracy: 0.8608\n",
      "Epoch 30/100\n",
      "159/159 [==============================] - 0s 1ms/step - loss: 0.4437 - accuracy: 0.8578\n",
      "Epoch 31/100\n",
      "159/159 [==============================] - 0s 1ms/step - loss: 0.4433 - accuracy: 0.8637\n",
      "Epoch 32/100\n",
      "159/159 [==============================] - 0s 1ms/step - loss: 0.4344 - accuracy: 0.8651\n",
      "Epoch 33/100\n",
      "159/159 [==============================] - 0s 2ms/step - loss: 0.4311 - accuracy: 0.8614\n",
      "Epoch 34/100\n",
      "159/159 [==============================] - 0s 2ms/step - loss: 0.4272 - accuracy: 0.8667\n",
      "Epoch 35/100\n",
      "159/159 [==============================] - 0s 2ms/step - loss: 0.4230 - accuracy: 0.8726\n",
      "Epoch 36/100\n",
      "159/159 [==============================] - 0s 2ms/step - loss: 0.4235 - accuracy: 0.8718\n",
      "Epoch 37/100\n",
      "159/159 [==============================] - 0s 2ms/step - loss: 0.4110 - accuracy: 0.8659\n",
      "Epoch 38/100\n",
      "159/159 [==============================] - 0s 2ms/step - loss: 0.4155 - accuracy: 0.8694\n",
      "Epoch 39/100\n",
      "159/159 [==============================] - 0s 2ms/step - loss: 0.4127 - accuracy: 0.8722\n",
      "Epoch 40/100\n",
      "159/159 [==============================] - 0s 2ms/step - loss: 0.4024 - accuracy: 0.8761\n",
      "Epoch 41/100\n",
      "159/159 [==============================] - 0s 2ms/step - loss: 0.4013 - accuracy: 0.8771\n",
      "Epoch 42/100\n",
      "159/159 [==============================] - 0s 2ms/step - loss: 0.3926 - accuracy: 0.8757\n",
      "Epoch 43/100\n",
      "159/159 [==============================] - 0s 2ms/step - loss: 0.3920 - accuracy: 0.8779\n",
      "Epoch 44/100\n",
      "159/159 [==============================] - 0s 2ms/step - loss: 0.3958 - accuracy: 0.8771\n",
      "Epoch 45/100\n",
      "159/159 [==============================] - 0s 2ms/step - loss: 0.3906 - accuracy: 0.8751\n",
      "Epoch 46/100\n",
      "159/159 [==============================] - 0s 2ms/step - loss: 0.3842 - accuracy: 0.8820\n",
      "Epoch 47/100\n",
      "159/159 [==============================] - 0s 2ms/step - loss: 0.3869 - accuracy: 0.8793\n",
      "Epoch 48/100\n",
      "159/159 [==============================] - 0s 2ms/step - loss: 0.3802 - accuracy: 0.8822\n",
      "Epoch 49/100\n",
      "159/159 [==============================] - 0s 2ms/step - loss: 0.3794 - accuracy: 0.8878\n",
      "Epoch 50/100\n",
      "159/159 [==============================] - 0s 1ms/step - loss: 0.3721 - accuracy: 0.8834\n",
      "Epoch 51/100\n",
      "159/159 [==============================] - 0s 1ms/step - loss: 0.3756 - accuracy: 0.8836\n",
      "Epoch 52/100\n",
      "159/159 [==============================] - 0s 1ms/step - loss: 0.3670 - accuracy: 0.8866\n",
      "Epoch 53/100\n",
      "159/159 [==============================] - 0s 2ms/step - loss: 0.3698 - accuracy: 0.8830\n",
      "Epoch 54/100\n",
      "159/159 [==============================] - 0s 2ms/step - loss: 0.3653 - accuracy: 0.8874\n",
      "Epoch 55/100\n",
      "159/159 [==============================] - 0s 2ms/step - loss: 0.3674 - accuracy: 0.8838\n",
      "Epoch 56/100\n",
      "159/159 [==============================] - 0s 2ms/step - loss: 0.3597 - accuracy: 0.8895\n",
      "Epoch 57/100\n",
      "159/159 [==============================] - 0s 2ms/step - loss: 0.3685 - accuracy: 0.8887\n",
      "Epoch 58/100\n",
      "159/159 [==============================] - 0s 2ms/step - loss: 0.3546 - accuracy: 0.8929\n",
      "Epoch 59/100\n",
      "159/159 [==============================] - 0s 2ms/step - loss: 0.3525 - accuracy: 0.8883\n",
      "Epoch 60/100\n",
      "159/159 [==============================] - 0s 2ms/step - loss: 0.3582 - accuracy: 0.8913\n",
      "Epoch 61/100\n",
      "159/159 [==============================] - 0s 2ms/step - loss: 0.3494 - accuracy: 0.8897\n",
      "Epoch 62/100\n",
      "159/159 [==============================] - 0s 2ms/step - loss: 0.3538 - accuracy: 0.8917\n",
      "Epoch 63/100\n",
      "159/159 [==============================] - 0s 2ms/step - loss: 0.3461 - accuracy: 0.8935\n",
      "Epoch 64/100\n",
      "159/159 [==============================] - 0s 2ms/step - loss: 0.3426 - accuracy: 0.8954\n",
      "Epoch 65/100\n",
      "159/159 [==============================] - 0s 2ms/step - loss: 0.3507 - accuracy: 0.8885\n",
      "Epoch 66/100\n",
      "159/159 [==============================] - 0s 2ms/step - loss: 0.3333 - accuracy: 0.8962\n",
      "Epoch 67/100\n",
      "159/159 [==============================] - 0s 1ms/step - loss: 0.3389 - accuracy: 0.8919\n",
      "Epoch 68/100\n",
      "159/159 [==============================] - 0s 1ms/step - loss: 0.3359 - accuracy: 0.8960\n",
      "Epoch 69/100\n",
      "159/159 [==============================] - 0s 2ms/step - loss: 0.3406 - accuracy: 0.8994\n",
      "Epoch 70/100\n",
      "159/159 [==============================] - 0s 2ms/step - loss: 0.3359 - accuracy: 0.8964\n",
      "Epoch 71/100\n",
      "159/159 [==============================] - 0s 1ms/step - loss: 0.3385 - accuracy: 0.8968\n",
      "Epoch 72/100\n",
      "159/159 [==============================] - 0s 1ms/step - loss: 0.3398 - accuracy: 0.8919\n",
      "Epoch 73/100\n",
      "159/159 [==============================] - 0s 2ms/step - loss: 0.3334 - accuracy: 0.8939\n",
      "Epoch 74/100\n",
      "159/159 [==============================] - 0s 2ms/step - loss: 0.3325 - accuracy: 0.8988\n",
      "Epoch 75/100\n",
      "159/159 [==============================] - 0s 1ms/step - loss: 0.3318 - accuracy: 0.9009\n",
      "Epoch 76/100\n",
      "159/159 [==============================] - 0s 1ms/step - loss: 0.3265 - accuracy: 0.8956\n",
      "Epoch 77/100\n",
      "159/159 [==============================] - 0s 1ms/step - loss: 0.3281 - accuracy: 0.8972\n",
      "Epoch 78/100\n",
      "159/159 [==============================] - 0s 2ms/step - loss: 0.3287 - accuracy: 0.8996\n",
      "Epoch 79/100\n",
      "159/159 [==============================] - 0s 2ms/step - loss: 0.3230 - accuracy: 0.9009\n",
      "Epoch 80/100\n",
      "159/159 [==============================] - 0s 2ms/step - loss: 0.3211 - accuracy: 0.9023\n",
      "Epoch 81/100\n",
      "159/159 [==============================] - 0s 1ms/step - loss: 0.3211 - accuracy: 0.9017\n",
      "Epoch 82/100\n",
      "159/159 [==============================] - 0s 1ms/step - loss: 0.3279 - accuracy: 0.8988\n",
      "Epoch 83/100\n",
      "159/159 [==============================] - 0s 1ms/step - loss: 0.3191 - accuracy: 0.9006\n",
      "Epoch 84/100\n",
      "159/159 [==============================] - 0s 1ms/step - loss: 0.3174 - accuracy: 0.9019\n",
      "Epoch 85/100\n",
      "159/159 [==============================] - 0s 2ms/step - loss: 0.3160 - accuracy: 0.9027\n",
      "Epoch 86/100\n",
      "159/159 [==============================] - 0s 2ms/step - loss: 0.3220 - accuracy: 0.8974\n",
      "Epoch 87/100\n",
      "159/159 [==============================] - 0s 2ms/step - loss: 0.3152 - accuracy: 0.9025\n",
      "Epoch 88/100\n",
      "159/159 [==============================] - 0s 1ms/step - loss: 0.3213 - accuracy: 0.8988\n",
      "Epoch 89/100\n",
      "159/159 [==============================] - 0s 1ms/step - loss: 0.3126 - accuracy: 0.9023\n",
      "Epoch 90/100\n",
      "159/159 [==============================] - 0s 2ms/step - loss: 0.3148 - accuracy: 0.9057\n",
      "Epoch 91/100\n",
      "159/159 [==============================] - 0s 2ms/step - loss: 0.3105 - accuracy: 0.9055\n",
      "Epoch 92/100\n",
      "159/159 [==============================] - 0s 2ms/step - loss: 0.3103 - accuracy: 0.9059\n",
      "Epoch 93/100\n",
      "159/159 [==============================] - 0s 2ms/step - loss: 0.3135 - accuracy: 0.9057\n",
      "Epoch 94/100\n",
      "159/159 [==============================] - 0s 2ms/step - loss: 0.3194 - accuracy: 0.9021\n",
      "Epoch 95/100\n",
      "159/159 [==============================] - 0s 1ms/step - loss: 0.3115 - accuracy: 0.9037\n",
      "Epoch 96/100\n",
      "159/159 [==============================] - 0s 1ms/step - loss: 0.3075 - accuracy: 0.9082\n",
      "Epoch 97/100\n",
      "159/159 [==============================] - 0s 1ms/step - loss: 0.3020 - accuracy: 0.9049\n",
      "Epoch 98/100\n",
      "159/159 [==============================] - 0s 2ms/step - loss: 0.3058 - accuracy: 0.9082\n",
      "Epoch 99/100\n",
      "159/159 [==============================] - 0s 1ms/step - loss: 0.3092 - accuracy: 0.9053\n",
      "Epoch 100/100\n",
      "159/159 [==============================] - 0s 2ms/step - loss: 0.2999 - accuracy: 0.9039\n"
     ]
    }
   ],
   "source": [
    "ann = tf.keras.models.Sequential()\n",
    "ann.add(tf.keras.layers.Dense(units=10,input_shape=(2500,), activation='relu'))\n",
    "ann.add(tf.keras.layers.Dense(units=100, activation='relu'))\n",
    "ann.add(tf.keras.layers.Dense(units=50, activation='relu'))\n",
    "ann.add(tf.keras.layers.Dense(units=10, activation='sigmoid'))\n",
    "ann.compile(\n",
    "    loss='sparse_categorical_crossentropy',\n",
    "     metrics=['accuracy']\n",
    ")\n",
    "history=ann.fit(X_train_flatten, y_train,epochs=100)"
   ]
  },
  {
   "cell_type": "code",
   "execution_count": 414,
   "id": "4c8ee5df",
   "metadata": {
    "scrolled": true
   },
   "outputs": [
    {
     "name": "stdout",
     "output_type": "stream",
     "text": [
      "40/40 [==============================] - 0s 1ms/step - loss: 0.5855 - accuracy: 0.8677\n"
     ]
    },
    {
     "data": {
      "text/plain": [
       "[0.5854628682136536, 0.8677165508270264]"
      ]
     },
     "execution_count": 414,
     "metadata": {},
     "output_type": "execute_result"
    }
   ],
   "source": [
    "ann.evaluate(X_test_flatten,y_test)"
   ]
  },
  {
   "cell_type": "code",
   "execution_count": 415,
   "id": "f5f019c5",
   "metadata": {},
   "outputs": [
    {
     "data": {
      "text/plain": [
       "2"
      ]
     },
     "execution_count": 415,
     "metadata": {},
     "output_type": "execute_result"
    },
    {
     "data": {
      "image/png": "[encoded data removed]",
      "text/plain": [
       "<Figure size 432x288 with 1 Axes>"
      ]
     },
     "metadata": {
      "needs_background": "light"
     },
     "output_type": "display_data"
    }
   ],
   "source": [
    "y_pred = ann.predict(X_test_flatten)\n",
    "\n",
    "plt.imshow(X_test[0])\n",
    "np.argmax(y_pred[0])"
   ]
  },
  {
   "cell_type": "code",
   "execution_count": 416,
   "id": "c61aeda4",
   "metadata": {},
   "outputs": [],
   "source": [
    "y_predicted_labels = [np.argmax(i) for i in y_pred]"
   ]
  },
  {
   "cell_type": "code",
   "execution_count": 417,
   "id": "b2922a3a",
   "metadata": {},
   "outputs": [
    {
     "name": "stdout",
     "output_type": "stream",
     "text": [
      "tf.Tensor(\n",
      "[[200   1  21   7   0   0   0   3   0   1]\n",
      " [  4  31   9   0   0   1   2   4   1   1]\n",
      " [ 29   3 652   4   0   3   0   1   1   4]\n",
      " [  1   0  16  27   3   1   0   1   0   0]\n",
      " [  0   2   3   3  17   0   0   0   2   0]\n",
      " [  3   2   4   0   0  76   0   0   0   4]\n",
      " [  1   1   0   0   0   0  15   0   0   1]\n",
      " [  3   1   5   1   1   0   0  48   0   0]\n",
      " [  0   0   2   1   0   0   0   0  14   1]\n",
      " [  1   0   2   1   0   1   0   0   0  22]], shape=(10, 10), dtype=int32)\n"
     ]
    },
    {
     "data": {
      "text/plain": [
       "0.8677165354330708"
      ]
     },
     "execution_count": 417,
     "metadata": {},
     "output_type": "execute_result"
    }
   ],
   "source": [
    "from sklearn.metrics import confusion_matrix, accuracy_score\n",
    "cm = tf.math.confusion_matrix(labels=y_test,predictions=y_predicted_labels)\n",
    "print(cm)\n",
    "accuracy_score(y_test, y_predicted_labels)"
   ]
  },
  {
   "cell_type": "code",
   "execution_count": 418,
   "id": "252be895",
   "metadata": {
    "scrolled": true
   },
   "outputs": [
    {
     "data": {
      "text/plain": [
       "<matplotlib.legend.Legend at 0x1d9142811c0>"
      ]
     },
     "execution_count": 418,
     "metadata": {},
     "output_type": "execute_result"
    },
    {
     "data": {
      "image/png": "[encoded data removed]",
      "text/plain": [
       "<Figure size 432x288 with 1 Axes>"
      ]
     },
     "metadata": {
      "needs_background": "light"
     },
     "output_type": "display_data"
    }
   ],
   "source": [
    "from sklearn.metrics import roc_curve, auc\n",
    "import matplotlib.pyplot as plt\n",
    "from collections import Counter\n",
    "\n",
    "y_pred1 = ann.predict(X_test_flatten)\n",
    "y_pred1=[np.argmax(i) for i in y_pred1]\n",
    "\n",
    "\n",
    "\n",
    "\n",
    "for i in range(10):\n",
    "    nn_fpr_keras, nn_tpr_keras, nn_thresholds_keras = roc_curve(y_test  , y_pred1, pos_label=i)\n",
    "    auc_keras = auc(nn_fpr_keras, nn_tpr_keras)\n",
    "    plt.plot(nn_fpr_keras, nn_tpr_keras,marker='.'.format(), label='class # %0.f' % i)\n",
    "    \n",
    "plt.legend(loc=\"lower right\")\n"
   ]
  },
  {
   "cell_type": "code",
   "execution_count": 419,
   "id": "578b7fe5",
   "metadata": {},
   "outputs": [
    {
     "data": {
      "image/png": "[encoded data removed]",
      "text/plain": [
       "<Figure size 432x288 with 1 Axes>"
      ]
     },
     "metadata": {
      "needs_background": "light"
     },
     "output_type": "display_data"
    }
   ],
   "source": [
    "plt.plot(history.history['loss'])\n",
    "plt.title('model loss')\n",
    "plt.ylabel('loss')\n",
    "plt.xlabel('epoch')\n",
    "plt.legend(['train'] , loc='upper left')\n",
    "plt.show()"
   ]
  },
  {
   "cell_type": "code",
   "execution_count": null,
   "id": "056b28cc",
   "metadata": {},
   "outputs": [],
   "source": []
  }
 ],
 "metadata": {
  "kernelspec": {
   "display_name": "Python 3",
   "language": "python",
   "name": "python3"
  },
  "language_info": {
   "codemirror_mode": {
    "name": "ipython",
    "version": 3
   },
   "file_extension": ".py",
   "mimetype": "text/x-python",
   "name": "python",
   "nbconvert_exporter": "python",
   "pygments_lexer": "ipython3",
   "version": "3.8.8"
  }
 },
 "nbformat": 4,
 "nbformat_minor": 5
}
